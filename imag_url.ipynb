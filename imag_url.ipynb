{
 "cells": [
  {
   "cell_type": "code",
   "execution_count": 34,
   "metadata": {
    "scrolled": true
   },
   "outputs": [],
   "source": [
    "from selenium import webdriver\n",
    "driver_path = \"C:\\webdriver\\geckodriver.exe\"\n",
    "def get_imag_link(prod_url_str):\n",
    "    global links, imag_url\n",
    "    driver = webdriver.Firefox(executable_path=driver_path)\n",
    "    driver.get(prod_url_str)\n",
    "    elements = driver.find_elements_by_class_name('q6DClP')\n",
    "    img_src=list()\n",
    "    for i in  elements:\n",
    "        img_src = i.get_attribute(\"style\").split('\"')\n",
    "        links= img_src[1].startswith(\"http\") if img_src[1] else False\n",
    "        if links is True:\n",
    "            print(img_src[1])\n",
    "    driver.close()\n",
    "\n"
   ]
  },
  {
   "cell_type": "code",
   "execution_count": 36,
   "metadata": {},
   "outputs": [],
   "source": [
    "#prod_url_str = \"https://www.flipkart.com/redmi-9i-sea-blue-64-gb/p/itm2d2ba7f6cbf65?pid=MOBFV8RYTHGA8BY9&lid=LSTMOBFV8RYTHGA8BY94NDC4M&marketplace=FLIPKART&q=Mobiles&store=tyy%2F4io&srno=s_1_1&otracker=search&otracker1=search&fm=SEARCH&iid=1ae45cca-9b3f-43a6-86cd-0a4401976198.MOBFV8RYTHGA8BY9.SEARCH&ppt=hp&ppn=homepage&ssid=j6pviohwsg0000001621429358638&qH=ae068f9324d0df60\"\n",
    "#prod_url_str=\"https://www.flipkart.com/samsung-7-kg-5-rating-fully-automatic-front-load-in-built-heater-black-grey/p/itm93f9061568c31?pid=WMNGYGGGEFZHBWHX&lid=LSTWMNGYGGGEFZHBWHXTURDDH&marketplace=FLIPKART&q=washing+machines&store=j9e%2Fabm%2F8qx&srno=s_1_1&otracker=AS_QueryStore_OrganicAutoSuggest_1_4_na_na_na&otracker1=AS_QueryStore_OrganicAutoSuggest_1_4_na_na_na&fm=organic&iid=en_PUcr7kM7KLwyNfjfpC%2BR2WWbFqoEFHq4X2c%2BgwaapQBaHJduJeHgB%2BfFRO5ldthES%2B4ZcP2C1CjTKB0Tvs0ysQ%3D%3D&ppt=None&ppn=None&ssid=cnzowemnow0000001621411467648&qH=bcadf718d561cab9\"\n",
    "#prod_url_str=\"https://www.flipkart.com/asian-rider-01-white-running-shoes-men-sport-boys-beads-technology-sole-extra-jump-memory-foam-insole/p/itm60b5618fd2cf1?pid=SHOFYFYK7PFP8AZG&lid=LSTSHOFYFYK7PFP8AZGSXRVPV&marketplace=FLIPKART&q=shoes&store=osp&srno=s_1_1&otracker=AS_Query_TrendingAutoSuggest_8_0_na_na_na&otracker1=AS_Query_TrendingAutoSuggest_8_0_na_na_na&fm=SEARCH&iid=en_LMlJOJ2iNO62zs5J9RUahogwHOk055RUcfDh3b8RQDanfYQBHm68Q%2FQog2orOuS9X7zTDc2dG03Pf%2FoqULZGAA%3D%3D&ppt=sp&ppn=sp&ssid=vceat1z71t22ofsw1621406067122&qH=b0a8b6f820479900\"\n",
    "prod_url_str=\"https://www.flipkart.com/fubar-men-solid-casual-maroon-shirt/p/itmdbb4df9986ad7?pid=SHTFB6M6AFMYUZCQ&lid=LSTSHTFB6M6AFMYUZCQLWADME&marketplace=FLIPKART&q=shirts&store=clo%2Fash%2Faxc%2Fmmk%2Fkp7&srno=s_1_1&otracker=AS_QueryStore_OrganicAutoSuggest_1_3_na_na_na&otracker1=AS_QueryStore_OrganicAutoSuggest_1_3_na_na_na&fm=SEARCH&iid=en_DLAviSAK5zx79sxOJcaF9e0YY6XF1PkQCkWnGhvoDr%2FfZsOZ3zvypdo0BLL04TfKhLa2woD81XKE1UVEva%2BiDw%3D%3D&ppt=sp&ppn=sp&ssid=ujmrf2h8jb8bn7cw1621411812342&qH=514ca2b2d46ccf67\"\n",
    "#prod_url_str=\"https://www.flipkart.com/lois-caron-lcs-8188-blue-dial-silver-strap-day-date-functioning-watch-boys-analog-men/p/itmc2c03ccfbe758?pid=WATFN6WFBSBYHTCX&lid=LSTWATFN6WFBSBYHTCXHUNGJW&marketplace=FLIPKART&q=watch&store=r18%2Ff13&srno=s_1_1&otracker=AS_QueryStore_OrganicAutoSuggest_1_1_na_na_na&otracker1=AS_QueryStore_OrganicAutoSuggest_1_1_na_na_na&fm=SEARCH&iid=749007c9-0776-47b8-a345-a8d6757cfd02.WATFN6WFBSBYHTCX.SEARCH&ppt=sp&ppn=sp&ssid=nrjg7fypboheic5c1621409981037&qH=d2974c96dc96b3f3\"\n",
    "#prod_url_str=\"https://www.flipkart.com/kiyara-collection-remote-control-stunt-car-vehicle-360rotating-rolling-radio-electric-racing/p/itm5e6dde034f52a?pid=RCTFTASNJZYVCRVB&lid=LSTRCTFTASNJZYVCRVBDTDVTC&marketplace=FLIPKART&store=mgl%2F56m&srno=b_1_1&otracker=nmenu_sub_Baby%20%26%20Kids_0_Remote%20Control%20Toys&fm=organic&iid=ed418ded-556a-40ca-bc32-d8825083ebce.RCTFTASNJZYVCRVB.SEARCH&ppt=browse&ppn=browse&ssid=2arcaerblln2d9mo1621413682061\"\n",
    "#prod_url_str='https://www.flipkart.com/furniturekraft-atlanta-metal-queen-bed/p/itmb6e0082267323?pid=BDDEBF3YVHYMBH2U&lid=LSTBDDEBF3YVHYMBH2UDIRD7B&marketplace=FLIPKART&store=wwe&srno=b_1_1&otracker=hp_rich_navigation_2_1.navigationCard.RICH_NAVIGATION_Home~Living%2BRoom_4MQHUMDYWFBZ&otracker1=hp_rich_navigation_PINNED_neo%2Fmerchandising_NA_NAV_EXPANDABLE_navigationCard_cc_2_L1_view-all&fm=organic&iid=en_a9947lwIZMxChk6V3O3qoabrnaT7yiyoJMJOCrNy6vdHVTH6FnINYySqxF%2Fn0r%2F6fIe3n0aFhs%2F9fMAzU1esZQ%3D%3D&ppt=hp&ppn=homepage&ssid=tnixn91l341a74e81621412783975'\n",
    "#prod_url_str=\"https://www.flipkart.com/fubar-men-solid-casual-maroon-shirt/p/itmdbb4df9986ad7?pid=SHTFB6M6AFMYUZCQ&lid=LSTSHTFB6M6AFMYUZCQLWADME&marketplace=FLIPKART&q=shirts&store=clo%2Fash%2Faxc%2Fmmk%2Fkp7&srno=s_1_1&otracker=AS_QueryStore_OrganicAutoSuggest_1_3_na_na_na&otracker1=AS_QueryStore_OrganicAutoSuggest_1_3_na_na_na&fm=SEARCH&iid=en_DLAviSAK5zx79sxOJcaF9e0YY6XF1PkQCkWnGhvoDr%2FfZsOZ3zvypdo0BLL04TfKhLa2woD81XKE1UVEva%2BiDw%3D%3D&ppt=sp&ppn=sp&ssid=ujmrf2h8jb8bn7cw1621411812342&qH=514ca2b2d46ccf67\"\n"
   ]
  },
  {
   "cell_type": "code",
   "execution_count": 37,
   "metadata": {
    "scrolled": true
   },
   "outputs": [
    {
     "name": "stdout",
     "output_type": "stream",
     "text": [
      "https://rukminim1.flixcart.com/image/128/128/kim1aq80-0/shirt/h/w/v/xl-sksh-bb110-xl-ma3-fubar-original-imafycz4gere5swd.jpeg?q=70\n",
      "https://rukminim1.flixcart.com/image/128/128/kn97te80/shirt/7/m/d/m-sksh-bb110-m-ma1-fubar-original-imagfzgqu2yktvk8.jpeg?q=70\n",
      "https://rukminim1.flixcart.com/image/128/128/kn97te80/shirt/u/o/w/m-sksh-bb110-m-ma1-fubar-original-imagfzgqqcskbtgq.jpeg?q=70\n",
      "https://rukminim1.flixcart.com/image/128/128/kn97te80/shirt/i/b/w/m-sksh-bb110-m-ma1-fubar-original-imagfzgqhcg87zyz.jpeg?q=70\n",
      "https://rukminim1.flixcart.com/image/128/128/kn97te80/shirt/n/k/i/m-sksh-bb110-m-ma1-fubar-original-imagfzgqn3b6quh2.jpeg?q=70\n",
      "https://rukminim1.flixcart.com/image/128/128/kn97te80/shirt/4/b/d/m-sksh-bb110-m-ma1-fubar-original-imagfzgqdhhj7gk7.jpeg?q=70\n",
      "https://rukminim1.flixcart.com/image/128/128/kn97te80/shirt/7/j/8/m-sksh-bb110-m-ma1-fubar-original-imagfzgqunqjs9zu.jpeg?q=70\n"
     ]
    }
   ],
   "source": [
    "get_imag_link(prod_url_str)"
   ]
  },
  {
   "cell_type": "code",
   "execution_count": null,
   "metadata": {},
   "outputs": [],
   "source": []
  }
 ],
 "metadata": {
  "kernelspec": {
   "display_name": "Python 3",
   "language": "python",
   "name": "python3"
  },
  "language_info": {
   "codemirror_mode": {
    "name": "ipython",
    "version": 3
   },
   "file_extension": ".py",
   "mimetype": "text/x-python",
   "name": "python",
   "nbconvert_exporter": "python",
   "pygments_lexer": "ipython3",
   "version": "3.7.4"
  }
 },
 "nbformat": 4,
 "nbformat_minor": 2
}
